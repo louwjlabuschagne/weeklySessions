{
 "cells": [
  {
   "cell_type": "code",
   "execution_count": 6,
   "metadata": {},
   "outputs": [],
   "source": [
    "from IPython.display import HTML"
   ]
  },
  {
   "cell_type": "code",
   "execution_count": 7,
   "metadata": {},
   "outputs": [
    {
     "data": {
      "text/html": [
       "\n",
       "<iframe width=\"560\" height=\"315\" src=\"https://www.youtube.com/embed/Tk338VXcb24\" frameborder=\"0\" allow=\"autoplay; encrypted-media\" allowfullscreen></iframe>\n"
      ],
      "text/plain": [
       "<IPython.core.display.HTML object>"
      ]
     },
     "execution_count": 7,
     "metadata": {},
     "output_type": "execute_result"
    }
   ],
   "source": [
    "HTML(\"\"\"\n",
    "<iframe width=\"560\" height=\"315\" src=\"https://www.youtube.com/embed/Tk338VXcb24\" frameborder=\"0\" allow=\"autoplay; encrypted-media\" allowfullscreen></iframe>\n",
    "\"\"\")"
   ]
  },
  {
   "cell_type": "markdown",
   "metadata": {},
   "source": [
    "# Topics\n",
    "\n",
    "<ul>\n",
    "    <li> <h4> H-bridge </h4> </li>\n",
    "    <li> <h4> Servo Motor </h4> </li>\n",
    "    <li> <h4> Bluetooth </h4> </li>\n",
    "    <li> <h4> UltraSound </h4> </li>\n",
    "    <li> <h4> Homework </h4> </li>\n",
    "</ul>"
   ]
  },
  {
   "cell_type": "markdown",
   "metadata": {},
   "source": [
    "# H-Bridge L298N\n",
    "\n",
    "Datasheet found <a href=\"https://www.sparkfun.com/datasheets/Robotics/L298_H_Bridge.pdf\">here</a>\n",
    "\n",
    "### Workings\n",
    "H bridges are available as integrated circuits, or can be built from discrete components.[1]\n",
    "\n",
    "The term H bridge is derived from the typical graphical representation of such a circuit. An H bridge is built with four switches (solid-state or mechanical). When the switches S1 and S4 (according to the first figure) are closed (and S2 and S3 are open) a positive voltage will be applied across the motor. By opening S1 and S4 switches and closing S2 and S3 switches, this voltage is reversed, allowing reverse operation of the motor.\n",
    "<img src=\"https://upload.wikimedia.org/wikipedia/commons/d/d4/H_bridge.svg\">\n",
    "\n",
    "### Internals\n",
    "<img src=\"assets/L298N_blockDiagram.png\">"
   ]
  },
  {
   "cell_type": "markdown",
   "metadata": {},
   "source": [
    "## Servo Motor - SG90\n",
    "\n",
    "<img src=\"assets/SG90_datasheet1.png\">\n",
    "\n",
    "### What is PWM\n",
    "Pulse Width Modulation, or PWM, is a technique for getting analog results with digital means. Digital control is used to create a square wave, a signal switched between on and off. This on-off pattern can simulate voltages in between full on (5 Volts) and off (0 Volts) by changing the portion of the time the signal spends on versus the time that the signal spends off. The duration of \"on time\" is called the pulse width. To get varying analog values, you change, or modulate, that pulse width. If you repeat this on-off pattern fast enough with an LED for example, the result is as if the signal is a steady voltage between 0 and 5v controlling the brightness of the LED.\n",
    "\n",
    "<img src=\"assets/pwm.png\">\n",
    "\n",
    "<img src=\"assets/pwm2.png\">\n",
    "\n",
    "Can't do PWM on all pins, on our UNO\n",
    "\n",
    "<img src=\"assets/PWM_on_car.png\">\n",
    "\n",
    "### Features\n",
    "+ Operating Voltage is +5V typically\n",
    "+ Torque: 2.5kg/cm\n",
    "+ Operating speed is 0.1s/60°\n",
    "+ Gear Type: Plastic\n",
    "+ Rotation : 0°-180°\n",
    "+ Weight of motor : 9gm\n",
    "\n",
    "### Usage\n",
    "It would be something to note here. The servo motor has three leads, with one more than a DC motor. Each lead has a color code. So you have to connect the brown wire from the micro servo to the GND pin on the Arduino. Connect the red wire from the servo to the +5V on the Arduino. And finally, connect the orange wire from the SG90 servo to a digital pin (pin 9) on the Arduino.\n",
    "\n",
    "### Code to address the servo\n",
    "```C \n",
    "#include servo.h  //add '<' and '>' before and after servo.h\n",
    "int servoPin = 9;\n",
    "\n",
    "Servo servo;   \n",
    "int servoAngle = 0;   // servo position in degrees\n",
    " \n",
    "void setup()\n",
    "{\n",
    "  Serial.begin(9600);  \n",
    "  servo.attach(servoPin);\n",
    "}\n",
    "void loop()\n",
    "{\n",
    "//control the servo's direction and the position of the motor\n",
    "   servo.write(45);      // Turn SG90 servo Left to 45 degrees\n",
    "   delay(1000);          // Wait 1 second\n",
    "   servo.write(90);      // Turn SG90 servo back to 90 degrees (center position)\n",
    "   delay(1000);          // Wait 1 second\n",
    "   servo.write(135);     // Turn SG90 servo Right to 135 degrees\n",
    "   delay(1000);          // Wait 1 second\n",
    "   servo.write(90);      // Turn SG90 servo back to 90 degrees (center position)\n",
    "   delay(1000);\n",
    "//end control the servo's direction and the position of the motor\n",
    "    \n",
    "//control the servo's speed  \n",
    "//if you change the delay value (from example change 50 to 10), the speed of the servo changes\n",
    "  for(servoAngle = 0; servoAngle < 180; servoAngle++)  //move the micro servo from 0 degrees to 180 degrees\n",
    "  {                                  \n",
    "    servo.write(servoAngle);              \n",
    "    delay(50);                  \n",
    "  }\n",
    "\n",
    "  for(servoAngle = 180; servoAngle > 0; servoAngle--)  //now move back the micro servo from 0 degrees to 180 degrees\n",
    "  {                                \n",
    "    servo.write(servoAngle);          \n",
    "    delay(10);      \n",
    "  }\n",
    "  //end control the servo's speed  \n",
    "}\n",
    "```\n",
    "\n",
    "\n"
   ]
  },
  {
   "cell_type": "markdown",
   "metadata": {},
   "source": [
    "### Bluetooth\n",
    "Bluetooth is a wireless technology standard for exchanging data over short distances (using short-wavelength UHF radio waves in the ISM band from 2.4 to 2.485 GHz)\n",
    "<br><br>\n",
    "A master BR/EDR Bluetooth device can communicate with a maximum of **seven** devices in a **piconet** (an ad-hoc computer network using Bluetooth technology), though not all devices reach this maximum. The devices can **switch roles**, by agreement, and the **slave** can become the **master** (for example, a headset initiating a connection to a phone necessarily begins as master—as initiator of the connection—but may subsequently operate as slave).\n",
    "<br><br>\n",
    "The Bluetooth Core Specification provides for the connection of two or more piconets to form a **scatternet**, in which certain devices simultaneously play the master role in one piconet and the slave role in another.\n",
    "\n",
    "<table>\n",
    "    <tbody>\n",
    "        <tr>\n",
    "            <th>Bluetooth version</th>\n",
    "            <th>Maximum speed</th>\n",
    "            <th>Maximum range</th>\n",
    "        </tr>\n",
    "        <tr>\n",
    "            <td>3.0</td>\n",
    "            <td>25&nbsp;Mbit/s</td>\n",
    "            <td>10&nbsp;meters (33&nbsp;ft)</td>\n",
    "        </tr>\n",
    "        <tr>\n",
    "            <td>4.0</td>\n",
    "            <td>25&nbsp;Mbit/s</td>\n",
    "            <td>60&nbsp;meters (200&nbsp;ft)</td>\n",
    "        </tr>\n",
    "        <tr>\n",
    "            <td>5</td>\n",
    "            <td>50&nbsp;Mbit/s</td>\n",
    "            <td>240&nbsp;meters (800&nbsp;ft)</td>\n",
    "        </tr>\n",
    "    </tbody>\n",
    "</table>"
   ]
  },
  {
   "cell_type": "markdown",
   "metadata": {},
   "source": [
    "### Ultrasound\n",
    "\n",
    "<img src=\"assets/ultrasound_echo_ranging.jpg\">\n",
    "\n",
    "<img src=\"assets/HC-SR04-Ultrasonic-Distance-Sensor-Module-600x600.png\">\n",
    "\n",
    "<img src=\"assets/ping-wrong-situation.png\">\n",
    "\n",
    "Distance = Speed * Time/2\n",
    "\n",
    "Speed of sound at sea level = 343 m/s = $\\frac{m}{s}$ "
   ]
  },
  {
   "cell_type": "markdown",
   "metadata": {},
   "source": [
    "<img src=\"https://wcs.smartdraw.com/flowchart/img/basic-symbols.jpg?bn=1510011104\">"
   ]
  },
  {
   "cell_type": "markdown",
   "metadata": {},
   "source": [
    "### Homework\n",
    "\n",
    "+ Draw a flow diagram of the logic needed to avoid obstacles\n",
    "+ if we measure a pulse coming back after 0.01 seconds, how far is the object?\n",
    "+ if an object is 1 kilometer away, how long will you have to wait for the pulse to come back?\n",
    "\n",
    "<img src=\"assets/SpeedDistanceTimeTriange.png\">\n"
   ]
  },
  {
   "cell_type": "code",
   "execution_count": null,
   "metadata": {},
   "outputs": [],
   "source": []
  }
 ],
 "metadata": {
  "kernelspec": {
   "display_name": "Python 3",
   "language": "python",
   "name": "python3"
  },
  "language_info": {
   "codemirror_mode": {
    "name": "ipython",
    "version": 3
   },
   "file_extension": ".py",
   "mimetype": "text/x-python",
   "name": "python",
   "nbconvert_exporter": "python",
   "pygments_lexer": "ipython3",
   "version": "3.5.4"
  }
 },
 "nbformat": 4,
 "nbformat_minor": 2
}

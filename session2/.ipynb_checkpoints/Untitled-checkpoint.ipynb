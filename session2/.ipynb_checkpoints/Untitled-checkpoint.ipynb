{
 "cells": [
  {
   "cell_type": "markdown",
   "metadata": {
    "toc": true
   },
   "source": [
    "<h1>Table of Contents<span class=\"tocSkip\"></span></h1>\n",
    "<div class=\"toc\"><ul class=\"toc-item\"><li><span><a href=\"#ToDo's\" data-toc-modified-id=\"ToDo's-1\">ToDo's</a></span></li><li><span><a href=\"#What-is-ssh\" data-toc-modified-id=\"What-is-ssh-2\">What is ssh</a></span><ul class=\"toc-item\"><li><span><a href=\"#Public-and-Private-Keys\" data-toc-modified-id=\"Public-and-Private-Keys-2.1\">Public and Private Keys</a></span></li><li><span><a href=\"#Useful-UNIX-commands\" data-toc-modified-id=\"Useful-UNIX-commands-2.2\">Useful UNIX commands</a></span></li><li><span><a href=\"#Useful-UNIX-server-commands\" data-toc-modified-id=\"Useful-UNIX-server-commands-2.3\">Useful UNIX server commands</a></span></li></ul></li><li><span><a href=\"#Homework\" data-toc-modified-id=\"Homework-3\">Homework</a></span></li></ul></div>"
   ]
  },
  {
   "cell_type": "markdown",
   "metadata": {},
   "source": [
    "# ToDo's\n",
    "+ SSH into my Mac using git-bash and get eproo files\n",
    "+ SpaceMan \n",
    "+ Recap Last session\n",
    "    + In your own words what are each of these:\n",
    "        + H-bridge \n",
    "        + Servo Motor \n",
    "        + Bluetooth \n",
    "        + UltraSound \n",
    "        + Homework \n",
    "    + Modulation do we use to control speed?\n",
    "    + Does Bluetooth have a fixed client server model?\n",
    "    + What is the equation that relates speed, time and distance?\n",
    "    + What is a blockchain?\n",
    "    + Name 2 coins? \n",
    "    + Name 2 tokens?\n",
    "    + What was Web 2.0, Web 1.0 and how will Web 3.0 work?\n",
    "+ SSH into your phone using SSHdroid app and `ifconfig`\n",
    "+ Copy ElEGOO BLE Tool.apk from my Mac to your phone and try and get bluetooth to work using app\n",
    "+ Homework"
   ]
  },
  {
   "cell_type": "code",
   "execution_count": 2,
   "metadata": {
    "ExecuteTime": {
     "end_time": "2018-02-20T15:29:50.574156Z",
     "start_time": "2018-02-20T15:29:50.559002Z"
    }
   },
   "outputs": [
    {
     "data": {
      "text/html": [
       "\n",
       "<iframe width=\"560\" height=\"315\" src=\"https://www.youtube.com/embed/m2p55BmwmJM?rel=0&amp;showinfo=0\" frameborder=\"0\" allow=\"autoplay; encrypted-media\" allowfullscreen></iframe>\n"
      ],
      "text/plain": [
       "<IPython.core.display.HTML object>"
      ]
     },
     "execution_count": 2,
     "metadata": {},
     "output_type": "execute_result"
    }
   ],
   "source": [
    "from IPython.display import HTML\n",
    "HTML(\"\"\"\n",
    "<iframe width=\"560\" height=\"315\" src=\"https://www.youtube.com/embed/m2p55BmwmJM?rel=0&amp;showinfo=0\" frameborder=\"0\" allow=\"autoplay; encrypted-media\" allowfullscreen></iframe>\n",
    "\"\"\")"
   ]
  },
  {
   "cell_type": "markdown",
   "metadata": {},
   "source": [
    "# What is ssh\n",
    "Secure Shell (SSH) is a cryptographic network protocol for operating network services securely over an unsecured network. The best known example application is for remote login to computer systems by users.\n",
    "\n",
    "SSH uses the idea of public and private keys - like bitcoin and other cryptocurrencies.\n",
    "\n",
    "## Public and Private Keys\n",
    "<img src=\"publicPrivateKey.png\">\n",
    "\n",
    "## Useful UNIX commands\n",
    "+ `mv`: move from_file to_file\n",
    "+ `cp`: copy from_file to_file\n",
    "\n",
    "For example\n",
    "\n",
    "`mv /Users/louwrenslabuschagne/Downloads/myFile.txt /Users/louwrenslabuschagne/Documents/myFile.txt` or \n",
    "\n",
    "`cp ~/Downloads/myFile.txt ~/Documents/myFile.txt` what's the difference? remember `~` is shorthand for `/Users/louwrenslabuschagne/`\n",
    "\n",
    "## Useful UNIX server commands\n",
    "To copy things from a server we need a secure way, so we have `scp`\n",
    "\n",
    "`cp louwrenslabuschagne@172.20.10.2:/Users/louwrenslabuschagne/Downloads/myFile.txt /Users/guillaume/Documents/myFile.txt`"
   ]
  },
  {
   "cell_type": "markdown",
   "metadata": {},
   "source": [
    "# Homework\n",
    "1. Write a python function that calculates the current, $i$,  in the following circuit:\n",
    "<img src=\"homeworkCircuit.gif\">\n",
    "2. Find out what is the main difference between Ethereum and Bitcoin\n",
    "3. Copy a file from windows to your phone using `ssh` - show me next week"
   ]
  },
  {
   "cell_type": "code",
   "execution_count": null,
   "metadata": {},
   "outputs": [],
   "source": []
  }
 ],
 "metadata": {
  "kernelspec": {
   "display_name": "Python 3",
   "language": "python",
   "name": "python3"
  },
  "language_info": {
   "codemirror_mode": {
    "name": "ipython",
    "version": 3
   },
   "file_extension": ".py",
   "mimetype": "text/x-python",
   "name": "python",
   "nbconvert_exporter": "python",
   "pygments_lexer": "ipython3",
   "version": "3.5.4"
  },
  "latex_envs": {
   "LaTeX_envs_menu_present": true,
   "autoclose": false,
   "autocomplete": true,
   "bibliofile": "biblio.bib",
   "cite_by": "apalike",
   "current_citInitial": 1,
   "eqLabelWithNumbers": true,
   "eqNumInitial": 1,
   "hotkeys": {
    "equation": "Ctrl-E",
    "itemize": "Ctrl-I"
   },
   "labels_anchors": false,
   "latex_user_defs": false,
   "report_style_numbering": false,
   "user_envs_cfg": false
  },
  "toc": {
   "nav_menu": {},
   "number_sections": false,
   "sideBar": true,
   "skip_h1_title": false,
   "title_cell": "Table of Contents",
   "title_sidebar": "Contents",
   "toc_cell": true,
   "toc_position": {},
   "toc_section_display": true,
   "toc_window_display": false
  },
  "varInspector": {
   "cols": {
    "lenName": 16,
    "lenType": 16,
    "lenVar": 40
   },
   "kernels_config": {
    "python": {
     "delete_cmd_postfix": "",
     "delete_cmd_prefix": "del ",
     "library": "var_list.py",
     "varRefreshCmd": "print(var_dic_list())"
    },
    "r": {
     "delete_cmd_postfix": ") ",
     "delete_cmd_prefix": "rm(",
     "library": "var_list.r",
     "varRefreshCmd": "cat(var_dic_list()) "
    }
   },
   "types_to_exclude": [
    "module",
    "function",
    "builtin_function_or_method",
    "instance",
    "_Feature"
   ],
   "window_display": false
  }
 },
 "nbformat": 4,
 "nbformat_minor": 2
}
